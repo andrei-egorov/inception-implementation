{
 "cells": [
  {
   "cell_type": "code",
   "execution_count": 1,
   "metadata": {},
   "outputs": [],
   "source": [
    "import torch\n",
    "import torch.nn.functional as F\n",
    "import torch.nn as nn"
   ]
  },
  {
   "cell_type": "markdown",
   "metadata": {},
   "source": [
    "![inception module](inception_1.png \"Inception module\")"
   ]
  },
  {
   "cell_type": "code",
   "execution_count": 2,
   "metadata": {},
   "outputs": [],
   "source": [
    "class InceptionBlock(nn.Module):\n",
    "    \n",
    "    def __init__(self, in_0, out_1, out_2_1, out_2_2, out_3_1, out_3_2, out_4_2):\n",
    "        super().__init__()\n",
    "        self.conv_1 = nn.Conv2d(in_0, out_1, kernel_size=1)\n",
    "        self.conv_2_1 = nn.Conv2d(in_0, out_2_1, kernel_size=1)\n",
    "        self.conv_2_2 = nn.Conv2d(out_2_1, out_2_2, kernel_size=3, padding=1)\n",
    "        self.conv_3_1 = nn.Conv2d(in_0, out_3_1, kernel_size=1)\n",
    "        self.conv_3_2 = nn.Conv2d(out_3_1, out_3_2, kernel_size=5, padding=2)\n",
    "        self.pool_4_1 = nn.MaxPool2d(kernel_size=3, stride=1, padding=1)\n",
    "        self.conv_4_2 = nn.Conv2d(in_0, out_4_2, kernel_size=1)\n",
    "        \n",
    "    def forward(self, x):\n",
    "        path_1 = self.conv_1(x)\n",
    "        path_1 = F.relu(path_1)\n",
    "        \n",
    "        path_2 = self.conv_2_1(x)\n",
    "        path_2 = F.relu(path_2)\n",
    "        path_2 = self.conv_2_2(path_2)\n",
    "        path_2 = F.relu(path_2)\n",
    "        \n",
    "        path_3 = self.conv_3_1(x)\n",
    "        path_3 = F.relu(path_3)\n",
    "        path_3 = self.conv_3_2(path_3)\n",
    "        path_3 = F.relu(path_3)\n",
    "        \n",
    "        path_4 = self.pool_4_1(x)\n",
    "        path_4 = self.conv_4_2(path_4)\n",
    "        path_4 = F.relu(path_4)\n",
    "        \n",
    "        x = torch.cat((path_1, path_2, path_3, path_4), dim=1)\n",
    "        \n",
    "        return x"
   ]
  },
  {
   "cell_type": "code",
   "execution_count": 3,
   "metadata": {},
   "outputs": [
    {
     "data": {
      "text/plain": [
       "torch.Size([1, 192, 28, 28])"
      ]
     },
     "execution_count": 3,
     "metadata": {},
     "output_type": "execute_result"
    }
   ],
   "source": [
    "sample_inception_block_input = torch.randn(1, 192, 28, 28)\n",
    "sample_inception_block_input.shape"
   ]
  },
  {
   "cell_type": "code",
   "execution_count": 4,
   "metadata": {},
   "outputs": [
    {
     "data": {
      "text/plain": [
       "tensor([[[[0.0000, 0.0370, 0.7375,  ..., 0.0000, 0.5224, 0.4864],\n",
       "          [0.0000, 0.2402, 0.0796,  ..., 0.0000, 0.0000, 0.4021],\n",
       "          [0.1581, 0.0000, 0.0000,  ..., 0.0000, 0.2499, 1.1586],\n",
       "          ...,\n",
       "          [0.0000, 0.0000, 0.0000,  ..., 0.0000, 0.8399, 0.7623],\n",
       "          [0.5253, 0.0000, 0.0000,  ..., 0.0000, 0.4505, 0.4039],\n",
       "          [0.8262, 0.0830, 0.0000,  ..., 0.0000, 0.0000, 0.2985]],\n",
       "\n",
       "         [[0.1300, 0.0000, 0.0000,  ..., 0.0000, 0.2802, 0.0000],\n",
       "          [0.0000, 0.0638, 0.0000,  ..., 0.1772, 0.0000, 0.0000],\n",
       "          [0.0000, 0.0000, 0.7269,  ..., 0.8356, 0.0000, 0.4428],\n",
       "          ...,\n",
       "          [0.4667, 0.9447, 0.2252,  ..., 0.0000, 0.0000, 0.0000],\n",
       "          [0.2258, 0.0923, 0.0000,  ..., 0.6985, 0.8805, 0.0000],\n",
       "          [0.0609, 0.4870, 0.0000,  ..., 0.0000, 0.6240, 0.0000]],\n",
       "\n",
       "         [[0.3156, 0.0000, 0.0000,  ..., 0.0000, 0.0000, 0.2950],\n",
       "          [1.0187, 0.1072, 0.0000,  ..., 0.2558, 0.4695, 0.0000],\n",
       "          [0.0000, 0.1695, 0.0588,  ..., 0.0000, 0.0000, 1.0338],\n",
       "          ...,\n",
       "          [1.0168, 0.4648, 1.1091,  ..., 0.6203, 0.0000, 0.0000],\n",
       "          [0.2630, 0.0000, 1.0837,  ..., 1.5164, 0.3619, 0.0000],\n",
       "          [0.0000, 0.0000, 0.2315,  ..., 0.0000, 0.0000, 0.2328]],\n",
       "\n",
       "         ...,\n",
       "\n",
       "         [[1.1533, 1.4026, 1.3006,  ..., 1.5994, 1.9069, 1.2650],\n",
       "          [1.4337, 1.7251, 1.9096,  ..., 1.3483, 1.5934, 1.0243],\n",
       "          [1.3411, 1.6286, 1.9998,  ..., 1.4300, 1.4855, 1.1979],\n",
       "          ...,\n",
       "          [1.3536, 1.6362, 1.6835,  ..., 1.3202, 1.3592, 1.0881],\n",
       "          [1.6271, 1.9655, 1.7529,  ..., 1.7061, 1.6561, 1.4349],\n",
       "          [1.8600, 2.1431, 1.8604,  ..., 0.7670, 1.1463, 0.7077]],\n",
       "\n",
       "         [[0.5330, 0.9870, 1.3884,  ..., 1.3635, 1.3890, 0.6086],\n",
       "          [0.4944, 0.7059, 1.2471,  ..., 1.3027, 1.3877, 0.7731],\n",
       "          [1.3912, 1.0016, 0.4586,  ..., 0.7941, 1.1315, 1.2123],\n",
       "          ...,\n",
       "          [1.6368, 1.7146, 1.6060,  ..., 1.3568, 0.9933, 0.6457],\n",
       "          [1.2823, 1.3724, 1.2018,  ..., 1.5853, 1.1665, 0.9476],\n",
       "          [0.8751, 1.0903, 0.8603,  ..., 1.1859, 0.8773, 0.6795]],\n",
       "\n",
       "         [[0.0688, 0.0000, 0.0000,  ..., 0.2556, 0.0000, 0.0000],\n",
       "          [0.0000, 0.0000, 0.0000,  ..., 0.2498, 0.0000, 0.0000],\n",
       "          [0.0000, 0.0000, 0.0000,  ..., 0.3346, 0.0000, 0.0000],\n",
       "          ...,\n",
       "          [0.0000, 0.0000, 0.0000,  ..., 0.0000, 0.0000, 0.0000],\n",
       "          [0.0000, 0.0000, 0.0000,  ..., 0.0000, 0.0000, 0.0000],\n",
       "          [0.0000, 0.0000, 0.0000,  ..., 0.0000, 0.0000, 0.0000]]]],\n",
       "       grad_fn=<CatBackward>)"
      ]
     },
     "execution_count": 4,
     "metadata": {},
     "output_type": "execute_result"
    }
   ],
   "source": [
    "#inception block works fine\n",
    "test_inception_block = InceptionBlock(192, 64, 96, 128, 16, 32, 32)\n",
    "test_inception_block.forward(sample_inception_block_input)"
   ]
  },
  {
   "cell_type": "markdown",
   "metadata": {},
   "source": [
    "![inception architecture](inception_2.png \"Inception architecture\")"
   ]
  },
  {
   "cell_type": "code",
   "execution_count": 5,
   "metadata": {},
   "outputs": [],
   "source": [
    "class InceptionNet(nn.Module):\n",
    "    \n",
    "    def __init__(self):\n",
    "        super().__init__()\n",
    "        self.conv_1 = nn.Conv2d(3, 64, 7, stride=2, padding=3)\n",
    "        self.conv_2 = nn.Conv2d(64, 192, 3, padding=1)\n",
    "        self.max_pool = nn.MaxPool2d(kernel_size=3, stride=2, padding=1)\n",
    "        self.inc_block_3a = InceptionBlock(192, 64, 96, 128, 16, 32, 32)\n",
    "        self.inc_block_3b = InceptionBlock(256, 128, 128, 192, 32, 96, 64)\n",
    "        self.inc_block_4a = InceptionBlock(480, 192, 96, 208, 16, 48, 64)\n",
    "        self.inc_block_4b = InceptionBlock(512, 160, 112, 224, 24, 64, 64)\n",
    "        self.inc_block_4c = InceptionBlock(512, 128, 128, 256, 24, 64, 64)\n",
    "        self.inc_block_4d = InceptionBlock(512, 256, 160, 320, 32, 128, 128)\n",
    "        self.inc_block_4e = InceptionBlock(512, 256, 160, 320, 32, 128, 128)\n",
    "        self.inc_block_5a = InceptionBlock(832, 256, 160, 320, 32, 128, 128)\n",
    "        self.inc_block_5b = InceptionBlock(832, 384, 192, 384, 48, 128, 128)\n",
    "        self.avg_pool = nn.AvgPool2d(kernel_size=7, stride=1)\n",
    "        self.dropout = nn.Dropout2d(0.4)\n",
    "        self.fc_1 = nn.Linear(1024, 128)\n",
    "        self.fc_2 = nn.Linear(128, 16)\n",
    "        self.fc_3 = nn.Linear(16, 1)\n",
    "           \n",
    "        \n",
    "    def forward(self, x):\n",
    "        x = F.relu(self.conv_1(x))\n",
    "        x = self.max_pool(x)\n",
    "        x = F.relu(self.conv_2(x))\n",
    "        x = self.max_pool(x)\n",
    "        x = self.inc_block_3a(x)\n",
    "        x = self.inc_block_3b(x)\n",
    "        x = self.max_pool(x)\n",
    "        x = self.inc_block_4a(x)\n",
    "        x = self.inc_block_4b(x)\n",
    "        x = self.inc_block_4c(x)\n",
    "        x = self.inc_block_4d(x)\n",
    "        x = self.max_pool(x)\n",
    "        x = self.inc_block_5a(x)\n",
    "        x = self.inc_block_5b(x)\n",
    "        x = self.avg_pool(x)\n",
    "        x = self.dropout(x).view(-1, 1024)\n",
    "        x = F.relu(self.fc_1(x))\n",
    "        x = F.relu(self.fc_2(x))\n",
    "        x = F.relu(self.fc_3(x))   \n",
    "\n",
    "        return x"
   ]
  },
  {
   "cell_type": "code",
   "execution_count": 6,
   "metadata": {},
   "outputs": [
    {
     "data": {
      "text/plain": [
       "torch.Size([32, 1])"
      ]
     },
     "execution_count": 6,
     "metadata": {},
     "output_type": "execute_result"
    }
   ],
   "source": [
    "#test\n",
    "model = InceptionNet()\n",
    "sample_inception_model_input = torch.randn(32, 3, 224, 224)\n",
    "model.forward(sample_inception_model_input).size()"
   ]
  },
  {
   "cell_type": "code",
   "execution_count": null,
   "metadata": {},
   "outputs": [],
   "source": []
  },
  {
   "cell_type": "code",
   "execution_count": null,
   "metadata": {},
   "outputs": [],
   "source": []
  }
 ],
 "metadata": {
  "kernelspec": {
   "display_name": "Python 3 (ipykernel)",
   "language": "python",
   "name": "python3"
  },
  "language_info": {
   "codemirror_mode": {
    "name": "ipython",
    "version": 3
   },
   "file_extension": ".py",
   "mimetype": "text/x-python",
   "name": "python",
   "nbconvert_exporter": "python",
   "pygments_lexer": "ipython3",
   "version": "3.8.11"
  }
 },
 "nbformat": 4,
 "nbformat_minor": 2
}
